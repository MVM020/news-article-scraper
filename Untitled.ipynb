{
 "cells": [
  {
   "cell_type": "code",
   "execution_count": 10,
   "metadata": {},
   "outputs": [],
   "source": [
    "import requests\n",
    "import bs4\n",
    "from bs4 import BeautifulSoup"
   ]
  },
  {
   "cell_type": "code",
   "execution_count": 11,
   "metadata": {},
   "outputs": [],
   "source": [
    "url = 'https://economictimes.indiatimes.com/markets/stocks/news'"
   ]
  },
  {
   "cell_type": "code",
   "execution_count": 12,
   "metadata": {},
   "outputs": [],
   "source": [
    "headers = {\n",
    "    'User-Agent': \"Mozilla/5.0 (Windows NT 10.0; Win64; x64; rv:86.0) Gecko/20100101 Firefox/86.0\"\n",
    "}"
   ]
  },
  {
   "cell_type": "code",
   "execution_count": 13,
   "metadata": {},
   "outputs": [],
   "source": [
    "r = requests.get(url,{'headers':headers})"
   ]
  },
  {
   "cell_type": "code",
   "execution_count": 14,
   "metadata": {},
   "outputs": [],
   "source": [
    "soup = bs4.BeautifulSoup(r.text,'html.parser')"
   ]
  },
  {
   "cell_type": "code",
   "execution_count": 15,
   "metadata": {},
   "outputs": [
    {
     "data": {
      "text/plain": [
       "'Faster Fed taper, earlier rate hikes in sight despite slower job gains'"
      ]
     },
     "execution_count": 15,
     "metadata": {},
     "output_type": "execute_result"
    }
   ],
   "source": [
    "soup.find_all('div',{'class': 'eachStory'})[0].find_all('a')[-1].text"
   ]
  },
  {
   "cell_type": "code",
   "execution_count": 21,
   "metadata": {},
   "outputs": [
    {
     "name": "stdout",
     "output_type": "stream",
     "text": [
      "1: Faster Fed taper, earlier rate hikes in sight despite slower job gains\n",
      "U.S. employers added 210,000 jobs last month, a U.S. Labor Department report showed Friday, less than half of what economists had expected. But average hourly earnings over the past 12 months rose 4.8 per cent, and the unemployment rate dropped to 4.2 per cent.\n",
      "\n",
      "2: Sebi in process of stipulating disclosures specific to ESG scheme: Ajay Tyagi\n",
      "Speaking at the inauguration of an ESG Centre for Research and Innovation at IIM Ahmedabad, Tyagi stressed on the need of in depth research on ESG norms with focus towards developing high quality, objective, content-specific rating matrices.\n",
      "\n",
      "3: EM flows tumble in November from year-ago record: IIF\n",
      "Non-resident flows to emerging markets landed at $15.6 billion last month, compared with $18.6 billion in October and $115.5 billion in November 2020, IIF data showed on Friday.\n",
      "\n",
      "4: NSE-BSE bulk deals: Malabar Fund sells 4 lakh shares of KIMS\n",
      "Malabar Select Fund sold 4,01,224 shares of Krishna Institute of Medical Sciences (KIMS) at Rs 1319.04 per share. On the other hand, Nalanda India Equity Fund sold 20,21,814 shares of Kirloskar Oil Engineering at Rs 184.88 per share.\n",
      "\n",
      "5: Economy is on recovery path, but hold the celebrations\n",
      "Rising inflation and the uncertainty around Omicron can impact the bounce-back of the Indian economy. It is too early to withdraw support.\n",
      "\n",
      "6: Import demand push, possible fall in exports due to Omicron may keep trade gap elevated, say analysts\n",
      "Growth in exports eased to 26.5 per cent year-on-year in November from 43.1 per cent in October, while import growth was at 57.2 per cent year-on-year as against 62.5 per cent a month ago, data released by the Reserve Bank of India on Wednesday showed.\n",
      "\n",
      "7: FPI selling leads to a $2.7 bn dip in India's forex reserves\n",
      "The reserves stood at $637.687 billion, falling from $640.4 billion, Reserve Bank of India's weekly data showed.\n",
      "\n",
      "8: D-Street may see a volatile week ahead with central banks in focus\n",
      "Investors would keep an eye on RBI’s policy decision due next week wherein status quo is likely to be maintained, most market commentators agree.\n",
      "\n",
      "9: Wall Street opens higher as weak jobs growth eases aggressive taper bets\n",
      "The Dow Jones Industrial Average rose 52.99 points, or 0.15 per cent, at the open to 34,692.78.\n",
      "\n",
      "10: Market Movers: Voda Idea rolls eyes at analysts; party at IPO mart continues\n",
      "Following the price hike last week, Vodafone Idea stock has gained substantially. The trend continued on Friday. The stock advanced nearly 13 per cent to Rs 14.44 and took the gains since the price hike to 36 per cent.\n",
      "\n"
     ]
    }
   ],
   "source": [
    "i = 0\n",
    "while i <10:\n",
    "    headline = (soup.find_all('div',{'class': 'eachStory'})[i].find_all('a')[-1].text)\n",
    "    print (str(i+1)+\": \"+headline)\n",
    "    print (soup.find_all('div',{'class': 'eachStory'})[i].find_all('p')[-1].text)\n",
    "    print()\n",
    "    i+=1"
   ]
  },
  {
   "cell_type": "code",
   "execution_count": 27,
   "metadata": {},
   "outputs": [],
   "source": [
    "def getNews():\n",
    "    r = requests.get(url,{'headers':headers})\n",
    "    soup = bs4.BeautifulSoup(r.text,'html.parser')\n",
    "    soup.find_all('div',{'class': 'eachStory'})[0].find_all('a')[-1].text\n",
    "    i = 0\n",
    "    length = len(soup.find_all('div',{'class': 'eachStory'}))\n",
    "    while i <length:\n",
    "        headline = (soup.find_all('div',{'class': 'eachStory'})[i].find_all('a')[-1].text)\n",
    "        print (str(i+1)+\": \"+headline)\n",
    "        print (soup.find_all('div',{'class': 'eachStory'})[i].find_all('p')[-1].text)\n",
    "        print()\n",
    "        i+=1\n",
    "    \n",
    "    "
   ]
  },
  {
   "cell_type": "code",
   "execution_count": 28,
   "metadata": {},
   "outputs": [
    {
     "name": "stdout",
     "output_type": "stream",
     "text": [
      "1: Faster Fed taper, earlier rate hikes in sight despite slower job gains\n",
      "U.S. employers added 210,000 jobs last month, a U.S. Labor Department report showed Friday, less than half of what economists had expected. But average hourly earnings over the past 12 months rose 4.8 per cent, and the unemployment rate dropped to 4.2 per cent.\n",
      "\n",
      "2: Sebi in process of stipulating disclosures specific to ESG scheme: Ajay Tyagi\n",
      "Speaking at the inauguration of an ESG Centre for Research and Innovation at IIM Ahmedabad, Tyagi stressed on the need of in depth research on ESG norms with focus towards developing high quality, objective, content-specific rating matrices.\n",
      "\n",
      "3: EM flows tumble in November from year-ago record: IIF\n",
      "Non-resident flows to emerging markets landed at $15.6 billion last month, compared with $18.6 billion in October and $115.5 billion in November 2020, IIF data showed on Friday.\n",
      "\n",
      "4: NSE-BSE bulk deals: Malabar Fund sells 4 lakh shares of KIMS\n",
      "Malabar Select Fund sold 4,01,224 shares of Krishna Institute of Medical Sciences (KIMS) at Rs 1319.04 per share. On the other hand, Nalanda India Equity Fund sold 20,21,814 shares of Kirloskar Oil Engineering at Rs 184.88 per share.\n",
      "\n",
      "5: Economy is on recovery path, but hold the celebrations\n",
      "Rising inflation and the uncertainty around Omicron can impact the bounce-back of the Indian economy. It is too early to withdraw support.\n",
      "\n",
      "6: Import demand push, possible fall in exports due to Omicron may keep trade gap elevated, say analysts\n",
      "Growth in exports eased to 26.5 per cent year-on-year in November from 43.1 per cent in October, while import growth was at 57.2 per cent year-on-year as against 62.5 per cent a month ago, data released by the Reserve Bank of India on Wednesday showed.\n",
      "\n",
      "7: FPI selling leads to a $2.7 bn dip in India's forex reserves\n",
      "The reserves stood at $637.687 billion, falling from $640.4 billion, Reserve Bank of India's weekly data showed.\n",
      "\n",
      "8: D-Street may see a volatile week ahead with central banks in focus\n",
      "Investors would keep an eye on RBI’s policy decision due next week wherein status quo is likely to be maintained, most market commentators agree.\n",
      "\n",
      "9: Wall Street opens higher as weak jobs growth eases aggressive taper bets\n",
      "The Dow Jones Industrial Average rose 52.99 points, or 0.15 per cent, at the open to 34,692.78.\n",
      "\n",
      "10: Market Movers: Voda Idea rolls eyes at analysts; party at IPO mart continues\n",
      "Following the price hike last week, Vodafone Idea stock has gained substantially. The trend continued on Friday. The stock advanced nearly 13 per cent to Rs 14.44 and took the gains since the price hike to 36 per cent.\n",
      "\n",
      "11: Tech View: Nifty50 forms bearish candle; 100-EMA seen as key support\n",
      "A Doji on the weekly chart formed two bearish candles, which hints at indecision in the market, said Rohit Singre, Senior Technical Analyst at LKP Securities.\n",
      "\n",
      "12: Omicron sets bears loose on D-Street, Sensex plunges 765 pts; Nifty sinks below 17,200\n",
      "Equity benchmark Sensex plunged 765 points on Friday, dragged by losses in index-heavyweights Reliance Industries, HDFC twins and Kotak Bank, after India reported its first case of the Omicron variant of the coronavirus. The Centre on Thursday said two cases of Omicron have been detected in Karnataka. The 30-share BSE index ended 764.83 points or 1.31 per cent lower at 57,696.46. Similarly, the broader NSE Nifty tanked 204.95 points or 1.18 per cent to 17,196.70.\n",
      "\n",
      "13: Biggest gainers & losers of the day: Neogen rallied 15%, Vodafone zooms 13%\n",
      "The 30-share pack Sensex soared 764.83 points or 1.31 per cent to close at 57,696.46. Its broader peer Nifty50 gained 204.95 points or 1.19 per cent to 17,196.70. The broader markets outperformed as the BSE midcap index ended flat and the BSE smallcap index ended with decent gains.\n",
      "\n",
      "14: Mark Mobius sees 10-15% correction in Indian markets but remains unconcerned\n",
      "In an interview with ET Now, Mobius said he saw corrections as a good opportunity to buy into the markets. “Don’t think there will be any reason for us to get out even in a correction. Expect the bull run to continue in the markets,” he said.\n",
      "\n",
      "15: Weekly Top Picks: 40 stocks that scored 10 on 10 on Stock Reports Plus\n",
      "Stock Reports Plus, powered by Refinitiv, undertakes detailed company analysis for 4000+ listed stocks. \n",
      "\n",
      "16: China shares close higher as consumer staples, chip stocks gain\n",
      "For the week, the CSI300 index edged up 0.8%, while the Shanghai Composite Index added 1.2%.\n",
      "\n"
     ]
    }
   ],
   "source": [
    "getNews()"
   ]
  },
  {
   "cell_type": "code",
   "execution_count": null,
   "metadata": {},
   "outputs": [],
   "source": []
  }
 ],
 "metadata": {
  "kernelspec": {
   "display_name": "Python 3",
   "language": "python",
   "name": "python3"
  },
  "language_info": {
   "codemirror_mode": {
    "name": "ipython",
    "version": 3
   },
   "file_extension": ".py",
   "mimetype": "text/x-python",
   "name": "python",
   "nbconvert_exporter": "python",
   "pygments_lexer": "ipython3",
   "version": "3.8.3"
  }
 },
 "nbformat": 4,
 "nbformat_minor": 5
}
